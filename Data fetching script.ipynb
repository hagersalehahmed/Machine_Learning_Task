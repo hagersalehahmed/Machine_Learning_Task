{
 "cells": [
  {
   "cell_type": "code",
   "execution_count": 13,
   "id": "f99ce1b1",
   "metadata": {},
   "outputs": [],
   "source": [
    "import pandas as pd \n",
    "import json\n",
    "import requests"
   ]
  },
  {
   "cell_type": "code",
   "execution_count": 14,
   "id": "0bffb9f7",
   "metadata": {},
   "outputs": [
    {
     "data": {
      "text/html": [
       "<div>\n",
       "<style scoped>\n",
       "    .dataframe tbody tr th:only-of-type {\n",
       "        vertical-align: middle;\n",
       "    }\n",
       "\n",
       "    .dataframe tbody tr th {\n",
       "        vertical-align: top;\n",
       "    }\n",
       "\n",
       "    .dataframe thead th {\n",
       "        text-align: right;\n",
       "    }\n",
       "</style>\n",
       "<table border=\"1\" class=\"dataframe\">\n",
       "  <thead>\n",
       "    <tr style=\"text-align: right;\">\n",
       "      <th></th>\n",
       "      <th>id</th>\n",
       "      <th>dialect</th>\n",
       "    </tr>\n",
       "  </thead>\n",
       "  <tbody>\n",
       "    <tr>\n",
       "      <th>0</th>\n",
       "      <td>1175358310087892992</td>\n",
       "      <td>IQ</td>\n",
       "    </tr>\n",
       "    <tr>\n",
       "      <th>1</th>\n",
       "      <td>1175416117793349632</td>\n",
       "      <td>IQ</td>\n",
       "    </tr>\n",
       "    <tr>\n",
       "      <th>2</th>\n",
       "      <td>1175450108898565888</td>\n",
       "      <td>IQ</td>\n",
       "    </tr>\n",
       "    <tr>\n",
       "      <th>3</th>\n",
       "      <td>1175471073770573824</td>\n",
       "      <td>IQ</td>\n",
       "    </tr>\n",
       "    <tr>\n",
       "      <th>4</th>\n",
       "      <td>1175496913145217024</td>\n",
       "      <td>IQ</td>\n",
       "    </tr>\n",
       "  </tbody>\n",
       "</table>\n",
       "</div>"
      ],
      "text/plain": [
       "                    id dialect\n",
       "0  1175358310087892992      IQ\n",
       "1  1175416117793349632      IQ\n",
       "2  1175450108898565888      IQ\n",
       "3  1175471073770573824      IQ\n",
       "4  1175496913145217024      IQ"
      ]
     },
     "execution_count": 14,
     "metadata": {},
     "output_type": "execute_result"
    }
   ],
   "source": [
    "#read the dataset to extract id\n",
    "df = pd.read_csv(\"dataset/dialect_dataset.csv\")\n",
    "df.head()"
   ]
  },
  {
   "cell_type": "markdown",
   "id": "88ed7dfa",
   "metadata": {},
   "source": [
    "## Read id from dataset and add it in list "
   ]
  },
  {
   "cell_type": "code",
   "execution_count": 4,
   "id": "f79a4b97",
   "metadata": {},
   "outputs": [],
   "source": [
    "List_ID=[]\n",
    "for i in range(0,len(df)):\n",
    "    List_ID.append(str(df['id'][i]))"
   ]
  },
  {
   "cell_type": "markdown",
   "id": "b4c47cc6",
   "metadata": {},
   "source": [
    "# Request text from websit using list that includes ID"
   ]
  },
  {
   "cell_type": "code",
   "execution_count": 6,
   "id": "45f6ca4b",
   "metadata": {},
   "outputs": [],
   "source": [
    "index=0\n",
    "list1=[]\n",
    "list2=[]\n",
    "index_output=[]\n",
    "headers = {\n",
    "  'Content-Type': 'application/json'}\n",
    "\n",
    "url = \"https://recruitment.aimtechnologies.co/ai-tasks\"\n",
    "for i in range(0,480): \n",
    " \n",
    "    list1=[]\n",
    "    if(index<458000):\n",
    "        index2=index+1000\n",
    "    for j in range(index,index2):\n",
    "        list1.append(List_ID[j])\n",
    "    payload = json.dumps(list1)\n",
    "    response = requests.request(\"POST\", url, headers=headers, data=payload)\n",
    "    list2.append(response.text)\n",
    "    index=index+1000\n",
    "    index_output.append(index)"
   ]
  },
  {
   "cell_type": "markdown",
   "id": "265a2c9b",
   "metadata": {},
   "source": [
    "# Request the final id from dataset"
   ]
  },
  {
   "cell_type": "code",
   "execution_count": 8,
   "id": "6e6f5f04",
   "metadata": {},
   "outputs": [],
   "source": [
    "list1=[]\n",
    "\n",
    "for j in range(458000,len(List_ID)):\n",
    "    list1.append(List_ID[j])\n",
    "headers = {\n",
    "  'Content-Type': 'application/json'}\n",
    "\n",
    "url = \"https://recruitment.aimtechnologies.co/ai-tasks\"\n",
    "\n",
    "payload = json.dumps(list1)\n",
    "response = requests.request(\"POST\", url, headers=headers, data=payload)\n",
    "list2.append(response.text)"
   ]
  },
  {
   "cell_type": "markdown",
   "id": "efe40acc",
   "metadata": {},
   "source": [
    "# Merga datafram into one datafram"
   ]
  },
  {
   "cell_type": "code",
   "execution_count": 9,
   "id": "87720139",
   "metadata": {},
   "outputs": [],
   "source": [
    "list_datafram=[]\n",
    "for i in range(0,len(list2)):\n",
    "    data_dict=json.loads(list2[i])\n",
    "    name=\"df\"+str(i)\n",
    "    data_items = data_dict.items()\n",
    "    data_list = list(data_items)\n",
    "    name=pd.DataFrame(data_list, columns=['id','text'])\n",
    "    list_datafram.append(name)\n",
    "    \n",
    "    "
   ]
  },
  {
   "cell_type": "code",
   "execution_count": 10,
   "id": "218637f8",
   "metadata": {},
   "outputs": [
    {
     "data": {
      "text/html": [
       "<div>\n",
       "<style scoped>\n",
       "    .dataframe tbody tr th:only-of-type {\n",
       "        vertical-align: middle;\n",
       "    }\n",
       "\n",
       "    .dataframe tbody tr th {\n",
       "        vertical-align: top;\n",
       "    }\n",
       "\n",
       "    .dataframe thead th {\n",
       "        text-align: right;\n",
       "    }\n",
       "</style>\n",
       "<table border=\"1\" class=\"dataframe\">\n",
       "  <thead>\n",
       "    <tr style=\"text-align: right;\">\n",
       "      <th></th>\n",
       "      <th>id</th>\n",
       "      <th>text</th>\n",
       "    </tr>\n",
       "  </thead>\n",
       "  <tbody>\n",
       "    <tr>\n",
       "      <th>0</th>\n",
       "      <td>1175358310087892992</td>\n",
       "      <td>@Nw8ieJUwaCAAreT لكن بالنهاية .. ينتفض .. يغير .</td>\n",
       "    </tr>\n",
       "    <tr>\n",
       "      <th>1</th>\n",
       "      <td>1175416117793349632</td>\n",
       "      <td>@7zNqXP0yrODdRjK يعني هذا محسوب على البشر .. ح...</td>\n",
       "    </tr>\n",
       "    <tr>\n",
       "      <th>2</th>\n",
       "      <td>1175450108898565888</td>\n",
       "      <td>@KanaanRema مبين من كلامه خليجي</td>\n",
       "    </tr>\n",
       "    <tr>\n",
       "      <th>3</th>\n",
       "      <td>1175471073770573824</td>\n",
       "      <td>@HAIDER76128900 يسلملي مرورك وروحك الحلوه💐</td>\n",
       "    </tr>\n",
       "    <tr>\n",
       "      <th>4</th>\n",
       "      <td>1175496913145217024</td>\n",
       "      <td>@hmo2406 وين هل الغيبه  اخ محمد 🌸🌺</td>\n",
       "    </tr>\n",
       "    <tr>\n",
       "      <th>...</th>\n",
       "      <td>...</td>\n",
       "      <td>...</td>\n",
       "    </tr>\n",
       "    <tr>\n",
       "      <th>192</th>\n",
       "      <td>1019484980282580992</td>\n",
       "      <td>@Al_mhbaa_7 مبسوطين منك اللي باسطانا😅</td>\n",
       "    </tr>\n",
       "    <tr>\n",
       "      <th>193</th>\n",
       "      <td>1021083283709407232</td>\n",
       "      <td>@Zzainabali @P_ameerah والله ماينده ابش يختي</td>\n",
       "    </tr>\n",
       "    <tr>\n",
       "      <th>194</th>\n",
       "      <td>1017477537889431552</td>\n",
       "      <td>@Al_mhbaa_7 شو عملنا لك حنا تهربي مننا احنا مس...</td>\n",
       "    </tr>\n",
       "    <tr>\n",
       "      <th>195</th>\n",
       "      <td>1022430374696239232</td>\n",
       "      <td>@haneenalmwla الله يبارك فيها وبالعافيه 😋😋😋</td>\n",
       "    </tr>\n",
       "    <tr>\n",
       "      <th>196</th>\n",
       "      <td>1022409931029458944</td>\n",
       "      <td>@jolnar121 السحله ضيفي ي بتطلع لك سحليه😅😅</td>\n",
       "    </tr>\n",
       "  </tbody>\n",
       "</table>\n",
       "<p>458197 rows × 2 columns</p>\n",
       "</div>"
      ],
      "text/plain": [
       "                      id                                               text\n",
       "0    1175358310087892992   @Nw8ieJUwaCAAreT لكن بالنهاية .. ينتفض .. يغير .\n",
       "1    1175416117793349632  @7zNqXP0yrODdRjK يعني هذا محسوب على البشر .. ح...\n",
       "2    1175450108898565888                    @KanaanRema مبين من كلامه خليجي\n",
       "3    1175471073770573824         @HAIDER76128900 يسلملي مرورك وروحك الحلوه💐\n",
       "4    1175496913145217024                 @hmo2406 وين هل الغيبه  اخ محمد 🌸🌺\n",
       "..                   ...                                                ...\n",
       "192  1019484980282580992              @Al_mhbaa_7 مبسوطين منك اللي باسطانا😅\n",
       "193  1021083283709407232       @Zzainabali @P_ameerah والله ماينده ابش يختي\n",
       "194  1017477537889431552  @Al_mhbaa_7 شو عملنا لك حنا تهربي مننا احنا مس...\n",
       "195  1022430374696239232        @haneenalmwla الله يبارك فيها وبالعافيه 😋😋😋\n",
       "196  1022409931029458944          @jolnar121 السحله ضيفي ي بتطلع لك سحليه😅😅\n",
       "\n",
       "[458197 rows x 2 columns]"
      ]
     },
     "execution_count": 10,
     "metadata": {},
     "output_type": "execute_result"
    }
   ],
   "source": [
    "result = pd.concat(list_datafram)\n",
    "result"
   ]
  },
  {
   "cell_type": "code",
   "execution_count": 11,
   "id": "0a1c1ecb",
   "metadata": {},
   "outputs": [],
   "source": [
    "result.to_csv(\"dataset/fetching_script_dataset.csv\",encoding='UTF-8' )"
   ]
  },
  {
   "cell_type": "code",
   "execution_count": null,
   "id": "afad2b76",
   "metadata": {},
   "outputs": [],
   "source": []
  }
 ],
 "metadata": {
  "kernelspec": {
   "display_name": "Python 3 (ipykernel)",
   "language": "python",
   "name": "python3"
  },
  "language_info": {
   "codemirror_mode": {
    "name": "ipython",
    "version": 3
   },
   "file_extension": ".py",
   "mimetype": "text/x-python",
   "name": "python",
   "nbconvert_exporter": "python",
   "pygments_lexer": "ipython3",
   "version": "3.9.7"
  }
 },
 "nbformat": 4,
 "nbformat_minor": 5
}
